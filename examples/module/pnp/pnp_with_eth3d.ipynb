{
 "cells": [
  {
   "cell_type": "code",
   "execution_count": 1,
   "metadata": {
    "ExecuteTime": {
     "end_time": "2023-04-16T21:31:50.839445Z",
     "start_time": "2023-04-16T21:31:50.832893Z"
    },
    "collapsed": false
   },
   "outputs": [],
   "source": [
    "# auto reload\n",
    "%load_ext autoreload\n",
    "%autoreload 2"
   ]
  },
  {
   "cell_type": "markdown",
   "metadata": {
    "collapsed": false
   },
   "source": [
    "# Testing PnP on ETH3D dataset"
   ]
  },
  {
   "cell_type": "markdown",
   "metadata": {
    "collapsed": false
   },
   "source": [
    "Install dependencies\n",
    "```\n",
    "pip install py7zr torchdata\n",
    "pip install 'portalocker>=2.0.0'\n",
    "```"
   ]
  },
  {
   "attachments": {},
   "cell_type": "markdown",
   "metadata": {},
   "source": [
    "The following cell downloads the ETH3D dataset and extracts it to the `data_root` folder. The dataset is about 4.7GB in size. The `batch_sample` is a data generation head connected to the ETH3D datapipe. "
   ]
  },
  {
   "cell_type": "code",
   "execution_count": 2,
   "metadata": {
    "ExecuteTime": {
     "end_time": "2023-04-16T23:37:04.381872Z",
     "start_time": "2023-04-16T23:37:01.000937Z"
    },
    "collapsed": false
   },
   "outputs": [],
   "source": [
    "import torch\n",
    "from functools import partial\n",
    "import os\n",
    "from eth3d import download_pipe, load_pipe\n",
    "import numpy as np\n",
    "data_root = 'data_cache_eth3d_dp'\n",
    "os.makedirs(data_root, exist_ok=True)\n",
    "\n",
    "scenes = [\n",
    "    \"courtyard_dslr_undistorted.7z\",\n",
    "    \"facade_dslr_undistorted.7z\",\n",
    "    \"delivery_area_dslr_undistorted.7z\",\n",
    "    \"statue_dslr_undistorted.7z\",]\n",
    "\n",
    "files = ['DSC_0323.JPG', 'DSC_0350.JPG', 'DSC_0685.JPG', 'DSC_0490.JPG']\n",
    "\n",
    "def batch_sample(num_points: int, batch_size: int,\n",
    "                 pixels: np.ndarray, point_ids: np.ndarray,\n",
    "                 point_dict: dict,):\n",
    "    visible = point_ids >= 0\n",
    "    total_visible = visible.sum()\n",
    "    pixels = pixels[visible]\n",
    "    point_ids = point_ids[visible]\n",
    "\n",
    "    draw = np.random.choice(len(point_ids), (batch_size, num_points), replace=True)\n",
    "    sampled_point_ids = point_ids[draw]\n",
    "    sampled_pixels = pixels[draw]\n",
    "    # dtype is consistent with point\n",
    "    sampled_points = np.zeros((batch_size, num_points, 3), dtype=next(iter(point_dict.values()))[0].dtype)\n",
    "    for i in range(batch_size):\n",
    "        sampled_points[i] = np.array([point_dict[key][0] for key in sampled_point_ids[i]])\n",
    "\n",
    "    return sampled_pixels, sampled_points\n",
    "\n",
    "\n",
    "img = load_pipe(download_pipe(data_root, scenes=scenes))\n",
    "for _ in img:\n",
    "    pass"
   ]
  },
  {
   "attachments": {},
   "cell_type": "markdown",
   "metadata": {},
   "source": [
    "Next we instantiate a `PnP` object. Test our solver on the selected four images. "
   ]
  },
  {
   "cell_type": "code",
   "execution_count": 8,
   "metadata": {
    "ExecuteTime": {
     "end_time": "2023-04-16T23:45:03.193020Z",
     "start_time": "2023-04-16T23:44:40.563125Z"
    },
    "collapsed": false
   },
   "outputs": [
    {
     "ename": "KeyboardInterrupt",
     "evalue": "",
     "output_type": "error",
     "traceback": [
      "\u001b[0;31m---------------------------------------------------------------------------\u001b[0m",
      "\u001b[0;31mKeyboardInterrupt\u001b[0m                         Traceback (most recent call last)",
      "Cell \u001b[0;32mIn[8], line 28\u001b[0m\n\u001b[1;32m     25\u001b[0m camera \u001b[39m=\u001b[39m torch\u001b[39m.\u001b[39mfrom_numpy(camera)\u001b[39m.\u001b[39mto(points)\n\u001b[1;32m     27\u001b[0m start \u001b[39m=\u001b[39m perf_counter()\n\u001b[0;32m---> 28\u001b[0m pose \u001b[39m=\u001b[39m epnp(points, pixels, camera)\n\u001b[1;32m     29\u001b[0m end \u001b[39m=\u001b[39m perf_counter()\n\u001b[1;32m     31\u001b[0m time\u001b[39m.\u001b[39mappend(end \u001b[39m-\u001b[39m start)\n",
      "File \u001b[0;32m~/miniconda3/lib/python3.10/site-packages/torch/nn/modules/module.py:1501\u001b[0m, in \u001b[0;36mModule._call_impl\u001b[0;34m(self, *args, **kwargs)\u001b[0m\n\u001b[1;32m   1496\u001b[0m \u001b[39m# If we don't have any hooks, we want to skip the rest of the logic in\u001b[39;00m\n\u001b[1;32m   1497\u001b[0m \u001b[39m# this function, and just call forward.\u001b[39;00m\n\u001b[1;32m   1498\u001b[0m \u001b[39mif\u001b[39;00m \u001b[39mnot\u001b[39;00m (\u001b[39mself\u001b[39m\u001b[39m.\u001b[39m_backward_hooks \u001b[39mor\u001b[39;00m \u001b[39mself\u001b[39m\u001b[39m.\u001b[39m_backward_pre_hooks \u001b[39mor\u001b[39;00m \u001b[39mself\u001b[39m\u001b[39m.\u001b[39m_forward_hooks \u001b[39mor\u001b[39;00m \u001b[39mself\u001b[39m\u001b[39m.\u001b[39m_forward_pre_hooks\n\u001b[1;32m   1499\u001b[0m         \u001b[39mor\u001b[39;00m _global_backward_pre_hooks \u001b[39mor\u001b[39;00m _global_backward_hooks\n\u001b[1;32m   1500\u001b[0m         \u001b[39mor\u001b[39;00m _global_forward_hooks \u001b[39mor\u001b[39;00m _global_forward_pre_hooks):\n\u001b[0;32m-> 1501\u001b[0m     \u001b[39mreturn\u001b[39;00m forward_call(\u001b[39m*\u001b[39;49margs, \u001b[39m*\u001b[39;49m\u001b[39m*\u001b[39;49mkwargs)\n\u001b[1;32m   1502\u001b[0m \u001b[39m# Do not call functions when jit is used\u001b[39;00m\n\u001b[1;32m   1503\u001b[0m full_backward_hooks, non_full_backward_hooks \u001b[39m=\u001b[39m [], []\n",
      "File \u001b[0;32m~/Documents/pypose/pypose/module/pnp.py:166\u001b[0m, in \u001b[0;36mEPnP.forward\u001b[0;34m(self, points, pixels, intrinsics)\u001b[0m\n\u001b[1;32m    163\u001b[0m pose, beta, scale \u001b[39m=\u001b[39m \u001b[39mself\u001b[39m\u001b[39m.\u001b[39m_best_solution(errors, poses, betas, scales)\n\u001b[1;32m    165\u001b[0m \u001b[39mif\u001b[39;00m \u001b[39mself\u001b[39m\u001b[39m.\u001b[39mrefine:\n\u001b[0;32m--> 166\u001b[0m     beta \u001b[39m=\u001b[39m \u001b[39mself\u001b[39;49m\u001b[39m.\u001b[39;49m_refine(beta \u001b[39m*\u001b[39;49m scale, nullv, bases)\n\u001b[1;32m    167\u001b[0m     pose, scale \u001b[39m=\u001b[39m \u001b[39mself\u001b[39m\u001b[39m.\u001b[39m_compute_solution(beta, nullv, alpha, points)\n\u001b[1;32m    169\u001b[0m \u001b[39mreturn\u001b[39;00m pose\n",
      "File \u001b[0;32m~/Documents/pypose/pypose/module/pnp.py:191\u001b[0m, in \u001b[0;36mEPnP._refine\u001b[0;34m(beta, nullv, bases)\u001b[0m\n\u001b[1;32m    189\u001b[0m optim \u001b[39m=\u001b[39m GaussNewton(model, solver\u001b[39m=\u001b[39mLSTSQ())\n\u001b[1;32m    190\u001b[0m scheduler \u001b[39m=\u001b[39m StopOnPlateau(optim, steps\u001b[39m=\u001b[39m\u001b[39m10\u001b[39m, patience\u001b[39m=\u001b[39m\u001b[39m3\u001b[39m)\n\u001b[0;32m--> 191\u001b[0m scheduler\u001b[39m.\u001b[39;49moptimize(\u001b[39minput\u001b[39;49m\u001b[39m=\u001b[39;49m(bases, nullv))\n\u001b[1;32m    192\u001b[0m \u001b[39m# Retain the grad of initial beta after optimization.\u001b[39;00m\n\u001b[1;32m    193\u001b[0m \u001b[39mreturn\u001b[39;00m beta \u001b[39m+\u001b[39m (model\u001b[39m.\u001b[39mbeta \u001b[39m-\u001b[39m beta)\u001b[39m.\u001b[39mdetach()\n",
      "File \u001b[0;32m~/miniconda3/lib/python3.10/site-packages/torch/utils/_contextlib.py:115\u001b[0m, in \u001b[0;36mcontext_decorator.<locals>.decorate_context\u001b[0;34m(*args, **kwargs)\u001b[0m\n\u001b[1;32m    112\u001b[0m \u001b[39m@functools\u001b[39m\u001b[39m.\u001b[39mwraps(func)\n\u001b[1;32m    113\u001b[0m \u001b[39mdef\u001b[39;00m \u001b[39mdecorate_context\u001b[39m(\u001b[39m*\u001b[39margs, \u001b[39m*\u001b[39m\u001b[39m*\u001b[39mkwargs):\n\u001b[1;32m    114\u001b[0m     \u001b[39mwith\u001b[39;00m ctx_factory():\n\u001b[0;32m--> 115\u001b[0m         \u001b[39mreturn\u001b[39;00m func(\u001b[39m*\u001b[39;49margs, \u001b[39m*\u001b[39;49m\u001b[39m*\u001b[39;49mkwargs)\n",
      "File \u001b[0;32m~/Documents/pypose/pypose/optim/scheduler.py:200\u001b[0m, in \u001b[0;36mStopOnPlateau.optimize\u001b[0;34m(self, input, target, weight)\u001b[0m\n\u001b[1;32m    161\u001b[0m \u001b[39m\u001b[39m\u001b[39mr\u001b[39m\u001b[39m'''\u001b[39;00m\n\u001b[1;32m    162\u001b[0m \u001b[39mPerform full optimization steps.\u001b[39;00m\n\u001b[1;32m    163\u001b[0m \n\u001b[0;32m   (...)\u001b[0m\n\u001b[1;32m    197\u001b[0m \u001b[39m    StopOnPlateau: Maximum patience steps reached, Quiting..\u001b[39;00m\n\u001b[1;32m    198\u001b[0m \u001b[39m'''\u001b[39;00m\n\u001b[1;32m    199\u001b[0m \u001b[39mwhile\u001b[39;00m \u001b[39mself\u001b[39m\u001b[39m.\u001b[39mcontinual():\n\u001b[0;32m--> 200\u001b[0m     loss \u001b[39m=\u001b[39m \u001b[39mself\u001b[39;49m\u001b[39m.\u001b[39;49moptimizer\u001b[39m.\u001b[39;49mstep(\u001b[39minput\u001b[39;49m, target, weight)\n\u001b[1;32m    201\u001b[0m     \u001b[39mself\u001b[39m\u001b[39m.\u001b[39mstep(loss)\n",
      "File \u001b[0;32m~/miniconda3/lib/python3.10/site-packages/torch/optim/optimizer.py:280\u001b[0m, in \u001b[0;36mOptimizer.profile_hook_step.<locals>.wrapper\u001b[0;34m(*args, **kwargs)\u001b[0m\n\u001b[1;32m    276\u001b[0m         \u001b[39melse\u001b[39;00m:\n\u001b[1;32m    277\u001b[0m             \u001b[39mraise\u001b[39;00m \u001b[39mRuntimeError\u001b[39;00m(\u001b[39mf\u001b[39m\u001b[39m\"\u001b[39m\u001b[39m{\u001b[39;00mfunc\u001b[39m}\u001b[39;00m\u001b[39m must return None or a tuple of (new_args, new_kwargs),\u001b[39m\u001b[39m\"\u001b[39m\n\u001b[1;32m    278\u001b[0m                                \u001b[39mf\u001b[39m\u001b[39m\"\u001b[39m\u001b[39mbut got \u001b[39m\u001b[39m{\u001b[39;00mresult\u001b[39m}\u001b[39;00m\u001b[39m.\u001b[39m\u001b[39m\"\u001b[39m)\n\u001b[0;32m--> 280\u001b[0m out \u001b[39m=\u001b[39m func(\u001b[39m*\u001b[39;49margs, \u001b[39m*\u001b[39;49m\u001b[39m*\u001b[39;49mkwargs)\n\u001b[1;32m    281\u001b[0m \u001b[39mself\u001b[39m\u001b[39m.\u001b[39m_optimizer_step_code()\n\u001b[1;32m    283\u001b[0m \u001b[39m# call optimizer step post hooks\u001b[39;00m\n",
      "File \u001b[0;32m~/miniconda3/lib/python3.10/site-packages/torch/utils/_contextlib.py:115\u001b[0m, in \u001b[0;36mcontext_decorator.<locals>.decorate_context\u001b[0;34m(*args, **kwargs)\u001b[0m\n\u001b[1;32m    112\u001b[0m \u001b[39m@functools\u001b[39m\u001b[39m.\u001b[39mwraps(func)\n\u001b[1;32m    113\u001b[0m \u001b[39mdef\u001b[39;00m \u001b[39mdecorate_context\u001b[39m(\u001b[39m*\u001b[39margs, \u001b[39m*\u001b[39m\u001b[39m*\u001b[39mkwargs):\n\u001b[1;32m    114\u001b[0m     \u001b[39mwith\u001b[39;00m ctx_factory():\n\u001b[0;32m--> 115\u001b[0m         \u001b[39mreturn\u001b[39;00m func(\u001b[39m*\u001b[39;49margs, \u001b[39m*\u001b[39;49m\u001b[39m*\u001b[39;49mkwargs)\n",
      "File \u001b[0;32m~/Documents/pypose/pypose/optim/optimizer.py:241\u001b[0m, in \u001b[0;36mGaussNewton.step\u001b[0;34m(self, input, target, weight)\u001b[0m\n\u001b[1;32m    239\u001b[0m \u001b[39mif\u001b[39;00m weight \u001b[39mis\u001b[39;00m \u001b[39mnot\u001b[39;00m \u001b[39mNone\u001b[39;00m:\n\u001b[1;32m    240\u001b[0m     A, b \u001b[39m=\u001b[39m (weight \u001b[39m@\u001b[39m A\u001b[39m.\u001b[39munsqueeze(\u001b[39m-\u001b[39m\u001b[39m1\u001b[39m))\u001b[39m.\u001b[39msqueeze(\u001b[39m-\u001b[39m\u001b[39m1\u001b[39m), (weight \u001b[39m@\u001b[39m b\u001b[39m.\u001b[39munsqueeze(\u001b[39m-\u001b[39m\u001b[39m1\u001b[39m))\u001b[39m.\u001b[39msqueeze(\u001b[39m-\u001b[39m\u001b[39m1\u001b[39m)\n\u001b[0;32m--> 241\u001b[0m D \u001b[39m=\u001b[39m \u001b[39mself\u001b[39;49m\u001b[39m.\u001b[39;49msolver(A \u001b[39m=\u001b[39;49m A\u001b[39m.\u001b[39;49mreshape(A\u001b[39m.\u001b[39;49mshape[\u001b[39m0\u001b[39;49m], \u001b[39m-\u001b[39;49m\u001b[39m1\u001b[39;49m)\u001b[39m.\u001b[39;49mT, b \u001b[39m=\u001b[39;49m \u001b[39m-\u001b[39;49mb\u001b[39m.\u001b[39;49mview(\u001b[39m-\u001b[39;49m\u001b[39m1\u001b[39;49m, \u001b[39m1\u001b[39;49m))\n\u001b[1;32m    242\u001b[0m \u001b[39mself\u001b[39m\u001b[39m.\u001b[39mlast \u001b[39m=\u001b[39m \u001b[39mself\u001b[39m\u001b[39m.\u001b[39mloss \u001b[39mif\u001b[39;00m \u001b[39mhasattr\u001b[39m(\u001b[39mself\u001b[39m, \u001b[39m'\u001b[39m\u001b[39mloss\u001b[39m\u001b[39m'\u001b[39m) \\\n\u001b[1;32m    243\u001b[0m             \u001b[39melse\u001b[39;00m \u001b[39mself\u001b[39m\u001b[39m.\u001b[39mmodel\u001b[39m.\u001b[39mloss(\u001b[39minput\u001b[39m, target)\n\u001b[1;32m    244\u001b[0m \u001b[39mself\u001b[39m\u001b[39m.\u001b[39mupdate_parameter(params \u001b[39m=\u001b[39m pg[\u001b[39m'\u001b[39m\u001b[39mparams\u001b[39m\u001b[39m'\u001b[39m], step \u001b[39m=\u001b[39m D)\n",
      "File \u001b[0;32m~/miniconda3/lib/python3.10/site-packages/torch/nn/modules/module.py:1501\u001b[0m, in \u001b[0;36mModule._call_impl\u001b[0;34m(self, *args, **kwargs)\u001b[0m\n\u001b[1;32m   1496\u001b[0m \u001b[39m# If we don't have any hooks, we want to skip the rest of the logic in\u001b[39;00m\n\u001b[1;32m   1497\u001b[0m \u001b[39m# this function, and just call forward.\u001b[39;00m\n\u001b[1;32m   1498\u001b[0m \u001b[39mif\u001b[39;00m \u001b[39mnot\u001b[39;00m (\u001b[39mself\u001b[39m\u001b[39m.\u001b[39m_backward_hooks \u001b[39mor\u001b[39;00m \u001b[39mself\u001b[39m\u001b[39m.\u001b[39m_backward_pre_hooks \u001b[39mor\u001b[39;00m \u001b[39mself\u001b[39m\u001b[39m.\u001b[39m_forward_hooks \u001b[39mor\u001b[39;00m \u001b[39mself\u001b[39m\u001b[39m.\u001b[39m_forward_pre_hooks\n\u001b[1;32m   1499\u001b[0m         \u001b[39mor\u001b[39;00m _global_backward_pre_hooks \u001b[39mor\u001b[39;00m _global_backward_hooks\n\u001b[1;32m   1500\u001b[0m         \u001b[39mor\u001b[39;00m _global_forward_hooks \u001b[39mor\u001b[39;00m _global_forward_pre_hooks):\n\u001b[0;32m-> 1501\u001b[0m     \u001b[39mreturn\u001b[39;00m forward_call(\u001b[39m*\u001b[39;49margs, \u001b[39m*\u001b[39;49m\u001b[39m*\u001b[39;49mkwargs)\n\u001b[1;32m   1502\u001b[0m \u001b[39m# Do not call functions when jit is used\u001b[39;00m\n\u001b[1;32m   1503\u001b[0m full_backward_hooks, non_full_backward_hooks \u001b[39m=\u001b[39m [], []\n",
      "File \u001b[0;32m~/Documents/pypose/pypose/optim/solver.py:145\u001b[0m, in \u001b[0;36mLSTSQ.forward\u001b[0;34m(self, A, b)\u001b[0m\n\u001b[1;32m    136\u001b[0m \u001b[39mdef\u001b[39;00m \u001b[39mforward\u001b[39m(\u001b[39mself\u001b[39m, A: Tensor, b: Tensor) \u001b[39m-\u001b[39m\u001b[39m>\u001b[39m Tensor:\n\u001b[1;32m    137\u001b[0m \u001b[39m    \u001b[39m\u001b[39m'''\u001b[39;00m\n\u001b[1;32m    138\u001b[0m \u001b[39m    Args:\u001b[39;00m\n\u001b[1;32m    139\u001b[0m \u001b[39m        A (Tensor): the input batched tensor.\u001b[39;00m\n\u001b[0;32m   (...)\u001b[0m\n\u001b[1;32m    143\u001b[0m \u001b[39m        Tensor: the solved batched tensor.\u001b[39;00m\n\u001b[1;32m    144\u001b[0m \u001b[39m    '''\u001b[39;00m\n\u001b[0;32m--> 145\u001b[0m     \u001b[39mself\u001b[39m\u001b[39m.\u001b[39mout \u001b[39m=\u001b[39m lstsq(A, b, rcond\u001b[39m=\u001b[39;49m\u001b[39mself\u001b[39;49m\u001b[39m.\u001b[39;49mrcond, driver\u001b[39m=\u001b[39;49m\u001b[39mself\u001b[39;49m\u001b[39m.\u001b[39;49mdriver)\n\u001b[1;32m    146\u001b[0m     \u001b[39massert\u001b[39;00m \u001b[39mnot\u001b[39;00m torch\u001b[39m.\u001b[39many(torch\u001b[39m.\u001b[39misnan(\u001b[39mself\u001b[39m\u001b[39m.\u001b[39mout\u001b[39m.\u001b[39msolution)), \\\n\u001b[1;32m    147\u001b[0m         \u001b[39m'\u001b[39m\u001b[39mLinear Solver Failed Using LSTSQ. Using PINV() instead\u001b[39m\u001b[39m'\u001b[39m\n\u001b[1;32m    148\u001b[0m     \u001b[39mreturn\u001b[39;00m \u001b[39mself\u001b[39m\u001b[39m.\u001b[39mout\u001b[39m.\u001b[39msolution\n",
      "\u001b[0;31mKeyboardInterrupt\u001b[0m: "
     ]
    }
   ],
   "source": [
    "import pypose as pp\n",
    "from time import perf_counter\n",
    "epnp = pp.module.EPnP()\n",
    "\n",
    "batch_size = 1000\n",
    "nums = [10, 100, 1000]\n",
    "for scene, file in zip(scenes, files):\n",
    "    r_error = []\n",
    "    t_error = []\n",
    "    time = []\n",
    "    for num_points in nums:\n",
    "        # load data\n",
    "        img = load_pipe(download_pipe(data_root, scenes=[scene]))\n",
    "        img = img.map(partial(batch_sample, num_points, batch_size), input_col=('pixels', 'point_ids', 'point'), output_col='sample')\n",
    "        img = img.filter(lambda x: file in x['jpg_name'])\n",
    "\n",
    "        # evaluation\n",
    "        for idx, i in enumerate(img):\n",
    "            pixels, points = i['sample']\n",
    "            groundtruth = i['pose']\n",
    "            camera = i['camera'][i['camera_id']]\n",
    "\n",
    "            points = torch.from_numpy(points).to(torch.float64)\n",
    "            pixels = torch.from_numpy(pixels).to(points)\n",
    "            camera = torch.from_numpy(camera).to(points)\n",
    "\n",
    "            start = perf_counter()\n",
    "            pose = epnp(points, pixels, camera)\n",
    "            end = perf_counter()\n",
    "            \n",
    "            time.append(end - start)\n",
    "            r_error.append(torch.norm(groundtruth.unsqueeze(0).rotation().matrix() - \n",
    "                                      pose.rotation().matrix(), dim=(-1, -2)).pow(2).mean().sqrt())\n",
    "            t_error.append(torch.norm(groundtruth.unsqueeze(0).translation() - \n",
    "                                      pose.translation(), dim=-1).pow(2).mean().sqrt())\n",
    "            assert idx == 0, \"Only one image is expected\"\n",
    "    # plot 3 subplots\n",
    "    import matplotlib.pyplot as plt\n",
    "    # all axis are in log scale\n",
    "    plt.figure(figsize=(30, 10))\n",
    "    plt.subplot(1, 3, 1)\n",
    "    plt.plot(nums, time, 'o-')\n",
    "    plt.ylabel('time')\n",
    "    plt.subplot(1, 3, 2)\n",
    "    plt.plot(nums, r_error, 'o-')\n",
    "    plt.ylabel('error')\n",
    "    plt.subplot(1, 3, 3)\n",
    "    plt.plot(nums, t_error, 'o-')\n",
    "    plt.ylabel('error')\n",
    "\n",
    "    plt.legend()\n",
    "    plt.title(f'EPnP with {file}')\n",
    "    plt.show()\n"
   ]
  }
 ],
 "metadata": {
  "kernelspec": {
   "display_name": "Python 3",
   "language": "python",
   "name": "python3"
  },
  "language_info": {
   "codemirror_mode": {
    "name": "ipython",
    "version": 3
   },
   "file_extension": ".py",
   "mimetype": "text/x-python",
   "name": "python",
   "nbconvert_exporter": "python",
   "pygments_lexer": "ipython3",
   "version": "3.10.9"
  }
 },
 "nbformat": 4,
 "nbformat_minor": 0
}
