{
  "cells": [
    {
      "attachments": {},
      "cell_type": "markdown",
      "metadata": {},
      "source": [
        "# Bundle Adjustment Example using PyPose and the BAL dataset\n",
        "\n",
        "```\n",
        "The dataset is from the following paper:  \n",
        "Sameer Agarwal, Noah Snavely, Steven M. Seitz, and Richard Szeliski.  \n",
        "Bundle adjustment in the large.  \n",
        "In European Conference on Computer Vision (ECCV), 2010.  \n",
        "```\n",
        "\n",
        "Link to the dataset: https://grail.cs.washington.edu/projects/bal/"
      ]
    },
    {
      "attachments": {},
      "cell_type": "markdown",
      "metadata": {},
      "source": [
        "## Install dependencies"
      ]
    },
    {
      "cell_type": "code",
      "execution_count": null,
      "metadata": {
        "id": "skqa_3Aqb-r_"
      },
      "outputs": [
        {
          "ename": "",
          "evalue": "",
          "output_type": "error",
          "traceback": [
            "\u001b[1;31mRunning cells with '/usr/bin/python3' requires the ipykernel package.\n",
            "\u001b[1;31mRun the following command to install 'ipykernel' into the Python environment. \n",
            "\u001b[1;31mCommand: '/usr/bin/python3 -m pip install ipykernel -U --user --force-reinstall'"
          ]
        }
      ],
      "source": [
        "!git clone https://github.com/hxu296/pypose.git\n",
        "%cd /content/pypose\n",
        "!git checkout sparse/ba\n",
        "!pip3 install pypose\n",
        "!pip install torchdata \"portalocker>=2.0.0\"\n",
        "%cd /content/pypose/examples/sparse"
      ]
    },
    {
      "attachments": {},
      "cell_type": "markdown",
      "metadata": {},
      "source": [
        "## Use dense bundle adjustment solver"
      ]
    },
    {
      "cell_type": "code",
      "execution_count": null,
      "metadata": {
        "id": "rDPS9qKcc-3y"
      },
      "outputs": [],
      "source": [
        "!python ba_dense.py --dataset ladybug --problem problem-49-7776-pre --step 1000"
      ]
    },
    {
      "attachments": {},
      "cell_type": "markdown",
      "metadata": {},
      "source": [
        "## Visualize loss per observation before and after optimization"
      ]
    },
    {
      "cell_type": "code",
      "execution_count": null,
      "metadata": {},
      "outputs": [],
      "source": [
        "from IPython.display import Image, display\n",
        "\n",
        "display(Image(filename=\"loss_per_observation_initial.png\"))\n",
        "display(Image(filename=\"loss_per_observation_final.png\"))"
      ]
    }
  ],
  "metadata": {
    "accelerator": "GPU",
    "colab": {
      "gpuType": "T4",
      "provenance": []
    },
    "kernelspec": {
      "display_name": "Python 3",
      "name": "python3"
    },
    "language_info": {
      "name": "python",
      "version": "3.8.9"
    }
  },
  "nbformat": 4,
  "nbformat_minor": 0
}
