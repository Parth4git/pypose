{
 "cells": [
  {
   "cell_type": "code",
   "execution_count": 3,
   "metadata": {},
   "outputs": [],
   "source": [
    "import torch\n",
    "import pypose as pp\n"
   ]
  },
  {
   "cell_type": "markdown",
   "metadata": {},
   "source": [
    "# 1. Initialize the tensor"
   ]
  },
  {
   "cell_type": "code",
   "execution_count": 4,
   "metadata": {},
   "outputs": [
    {
     "name": "stdout",
     "output_type": "stream",
     "text": [
      "tensor([[ 0.,  1.,  0.,  0.,  4.,  5.],\n",
      "        [ 2.,  3.,  0.,  0.,  6.,  7.],\n",
      "        [ 0.,  0.,  8.,  9.,  0.,  0.],\n",
      "        [ 0.,  0., 10., 11.,  0.,  0.],\n",
      "        [ 0.,  0.,  0.,  0., 12., 13.],\n",
      "        [ 0.,  0.,  0.,  0., 14., 15.]])\n"
     ]
    }
   ],
   "source": [
    "i = [[0, 0, 1, 2], [0, 2, 1, 2]]\n",
    "v = torch.arange(16).view((-1, 2, 2)).to(dtype=torch.float32)\n",
    "x = pp.sbktensor(i, v, size=(3, 3), dtype=torch.float32)\n",
    "print(x.to_sparse_coo().to_dense())\n"
   ]
  },
  {
   "cell_type": "markdown",
   "metadata": {},
   "source": [
    "# 2. Example operations"
   ]
  },
  {
   "cell_type": "code",
   "execution_count": 7,
   "metadata": {},
   "outputs": [
    {
     "name": "stdout",
     "output_type": "stream",
     "text": [
      "<class 'pypose.sparse.sbktensor.SbkTensor'>\n",
      "tensor([[2.2528e+04, 3.9936e+04, 0.0000e+00, 0.0000e+00, 9.4118e+07, 1.0135e+08],\n",
      "        [7.9872e+04, 1.4234e+05, 0.0000e+00, 0.0000e+00, 1.5123e+08, 1.6287e+08],\n",
      "        [0.0000e+00, 0.0000e+00, 5.7555e+07, 6.3913e+07, 0.0000e+00, 0.0000e+00],\n",
      "        [0.0000e+00, 0.0000e+00, 7.1014e+07, 7.8859e+07, 0.0000e+00, 0.0000e+00],\n",
      "        [0.0000e+00, 0.0000e+00, 0.0000e+00, 0.0000e+00, 2.4469e+08, 2.6346e+08],\n",
      "        [0.0000e+00, 0.0000e+00, 0.0000e+00, 0.0000e+00, 2.8372e+08, 3.0549e+08]])\n",
      "<class 'pypose.sparse.sbktensor.SbkTensor'>\n",
      "tensor([[3.6973e+09, 6.5840e+09, 0.0000e+00, 0.0000e+00, 5.1792e+16, 5.5765e+16],\n",
      "        [1.3168e+10, 2.3449e+10, 0.0000e+00, 0.0000e+00, 8.3244e+16, 8.9629e+16],\n",
      "        [0.0000e+00, 0.0000e+00, 7.8513e+15, 8.7186e+15, 0.0000e+00, 0.0000e+00],\n",
      "        [0.0000e+00, 0.0000e+00, 9.6874e+15, 1.0758e+16, 0.0000e+00, 0.0000e+00],\n",
      "        [0.0000e+00, 0.0000e+00, 0.0000e+00, 0.0000e+00, 1.3462e+17, 1.4495e+17],\n",
      "        [0.0000e+00, 0.0000e+00, 0.0000e+00, 0.0000e+00, 1.5610e+17, 1.6807e+17]])\n",
      "<class 'pypose.sparse.sbktensor.SbkTensor'>\n",
      "tensor([[7.3946e+09, 1.3168e+10, 0.0000e+00, 0.0000e+00, 1.0358e+17, 1.1153e+17],\n",
      "        [2.6336e+10, 4.6899e+10, 0.0000e+00, 0.0000e+00, 1.6649e+17, 1.7926e+17],\n",
      "        [0.0000e+00, 0.0000e+00, 1.5703e+16, 1.7437e+16, 0.0000e+00, 0.0000e+00],\n",
      "        [0.0000e+00, 0.0000e+00, 1.9375e+16, 2.1515e+16, 0.0000e+00, 0.0000e+00],\n",
      "        [0.0000e+00, 0.0000e+00, 0.0000e+00, 0.0000e+00, 2.6924e+17, 2.8990e+17],\n",
      "        [0.0000e+00, 0.0000e+00, 0.0000e+00, 0.0000e+00, 3.1220e+17, 3.3614e+17]])\n"
     ]
    }
   ],
   "source": [
    "# operation between two SbkTensor\n",
    "x = x + x\n",
    "print(type(x))\n",
    "print(x.to_sparse_coo().to_dense())\n",
    "\n",
    "x = x @ x\n",
    "print(type(x))\n",
    "print(x.to_sparse_coo().to_dense())\n",
    "\n",
    "# operation between SbkTensor and a scalar\n",
    "x = x * 2\n",
    "print(type(x))\n",
    "print(x.to_sparse_coo().to_dense())\n"
   ]
  }
 ],
 "metadata": {
  "kernelspec": {
   "display_name": "base",
   "language": "python",
   "name": "python3"
  },
  "language_info": {
   "codemirror_mode": {
    "name": "ipython",
    "version": 3
   },
   "file_extension": ".py",
   "mimetype": "text/x-python",
   "name": "python",
   "nbconvert_exporter": "python",
   "pygments_lexer": "ipython3",
   "version": "3.10.10"
  }
 },
 "nbformat": 4,
 "nbformat_minor": 2
}
