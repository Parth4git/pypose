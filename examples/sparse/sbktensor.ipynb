{
 "cells": [
  {
   "cell_type": "code",
   "execution_count": 1,
   "metadata": {},
   "outputs": [],
   "source": [
    "import torch\n",
    "import pypose as pp\n"
   ]
  },
  {
   "cell_type": "markdown",
   "metadata": {},
   "source": [
    "# 1. Initialize the tensor"
   ]
  },
  {
   "cell_type": "code",
   "execution_count": 2,
   "metadata": {},
   "outputs": [
    {
     "name": "stdout",
     "output_type": "stream",
     "text": [
      "tensor([[ 0.,  1.,  0.,  0.,  4.,  5.],\n",
      "        [ 2.,  3.,  0.,  0.,  6.,  7.],\n",
      "        [ 0.,  0.,  8.,  9.,  0.,  0.],\n",
      "        [ 0.,  0., 10., 11.,  0.,  0.],\n",
      "        [ 0.,  0.,  0.,  0., 12., 13.],\n",
      "        [ 0.,  0.,  0.,  0., 14., 15.]])\n"
     ]
    }
   ],
   "source": [
    "i = [[0, 0, 1, 2], [0, 2, 1, 2]]\n",
    "v = torch.arange(16).view((-1, 2, 2)).to(dtype=torch.float32)\n",
    "x = pp.sbktensor(i, v, size=(3, 3), dtype=torch.float32)\n",
    "print(x.to_sparse_coo().to_dense())\n"
   ]
  },
  {
   "cell_type": "markdown",
   "metadata": {},
   "source": [
    "# 2. Example operations"
   ]
  },
  {
   "cell_type": "code",
   "execution_count": 4,
   "metadata": {},
   "outputs": [
    {
     "name": "stdout",
     "output_type": "stream",
     "text": [
      "<class 'pypose.sparse.sbktensor.SbkTensor'>\n",
      "tensor([[  16.,   24.,    0.,    0.,  992., 1072.],\n",
      "        [  48.,   88.,    0.,    0., 1568., 1712.],\n",
      "        [   0.,    0., 1232., 1368.,    0.,    0.],\n",
      "        [   0.,    0., 1520., 1688.,    0.,    0.],\n",
      "        [   0.,    0.,    0.,    0., 2608., 2808.],\n",
      "        [   0.,    0.,    0.,    0., 3024., 3256.]])\n",
      "<class 'pypose.sparse.sbktensor.SbkTensor'>\n",
      "tensor([[1.4080e+03, 2.4960e+03, 0.0000e+00, 0.0000e+00, 5.8824e+06, 6.3342e+06],\n",
      "        [4.9920e+03, 8.8960e+03, 0.0000e+00, 0.0000e+00, 9.4520e+06, 1.0179e+07],\n",
      "        [0.0000e+00, 0.0000e+00, 3.5972e+06, 3.9946e+06, 0.0000e+00, 0.0000e+00],\n",
      "        [0.0000e+00, 0.0000e+00, 4.4384e+06, 4.9287e+06, 0.0000e+00, 0.0000e+00],\n",
      "        [0.0000e+00, 0.0000e+00, 0.0000e+00, 0.0000e+00, 1.5293e+07, 1.6466e+07],\n",
      "        [0.0000e+00, 0.0000e+00, 0.0000e+00, 0.0000e+00, 1.7733e+07, 1.9093e+07]])\n"
     ]
    }
   ],
   "source": [
    "x = x + x\n",
    "print(type(x))\n",
    "print(x.to_sparse_coo().to_dense())\n",
    "\n",
    "x = x @ x\n",
    "print(type(x))\n",
    "print(x.to_sparse_coo().to_dense())\n"
   ]
  }
 ],
 "metadata": {
  "kernelspec": {
   "display_name": "base",
   "language": "python",
   "name": "python3"
  },
  "language_info": {
   "codemirror_mode": {
    "name": "ipython",
    "version": 3
   },
   "file_extension": ".py",
   "mimetype": "text/x-python",
   "name": "python",
   "nbconvert_exporter": "python",
   "pygments_lexer": "ipython3",
   "version": "3.10.10"
  }
 },
 "nbformat": 4,
 "nbformat_minor": 2
}
